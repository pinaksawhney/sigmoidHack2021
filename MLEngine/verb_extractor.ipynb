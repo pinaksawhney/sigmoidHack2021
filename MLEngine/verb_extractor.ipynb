{
 "cells": [
  {
   "cell_type": "code",
   "execution_count": 1,
   "metadata": {},
   "outputs": [
    {
     "name": "stderr",
     "output_type": "stream",
     "text": [
      "[nltk_data] Downloading package wordnet to\n",
      "[nltk_data]     C:\\Users\\acer\\AppData\\Roaming\\nltk_data...\n",
      "[nltk_data]   Package wordnet is already up-to-date!\n"
     ]
    }
   ],
   "source": [
    "import nltk\n",
    "nltk.download('wordnet')\n",
    "from nltk.corpus import wordnet\n",
    "from nltk import word_tokenize, pos_tag"
   ]
  },
  {
   "cell_type": "code",
   "execution_count": 2,
   "metadata": {},
   "outputs": [],
   "source": [
    "lemmatizer = nltk.WordNetLemmatizer()"
   ]
  },
  {
   "cell_type": "code",
   "execution_count": 3,
   "metadata": {},
   "outputs": [],
   "source": [
    "## Defines function to extract information\n",
    "\n",
    "def leaves(tree):\n",
    "    \"\"\"Finds VP (verbphrase) leaf nodes of a chunk tree.\"\"\"\n",
    "    for subtree in tree.subtrees(filter = lambda t: t.label() =='VP'):\n",
    "        yield subtree.leaves()\n",
    "\n",
    "\n",
    "def get_word_postag(word):\n",
    "    if pos_tag([word])[0][1].startswith('J'):\n",
    "        return wordnet.ADJ\n",
    "    if pos_tag([word])[0][1].startswith('V'):\n",
    "        return wordnet.VERB\n",
    "    if pos_tag([word])[0][1].startswith('N'):\n",
    "        return wordnet.NOUN\n",
    "    else:\n",
    "        return wordnet.NOUN\n",
    "\n",
    "def normalise(word):\n",
    "    \"\"\"Normalises words to lowercase and stems and lemmatizes it.\"\"\"\n",
    "    word = word.lower()\n",
    "    postag = get_word_postag(word)\n",
    "    word = lemmatizer.lemmatize(word,postag)\n",
    "    return word\n",
    "\n",
    "def get_terms(tree):    \n",
    "    for leaf in leaves(tree):\n",
    "        terms = [normalise(w) for w,t in leaf]\n",
    "        yield terms\n",
    "\n",
    "\n",
    "def ie_extract(text):\n",
    "    \n",
    "    ## Tokenize sentences\n",
    "    sentences = nltk.sent_tokenize(text)\n",
    "    sentences = [nltk.word_tokenize(sent) for sent in sentences]\n",
    "    sentences = [nltk.pos_tag(sent) for sent in sentences]\n",
    "    grammar = \"VP: {<V.*><.*>*<NN>}  # Chunk a verb and everything up to noun\"\n",
    "    cp = nltk.RegexpParser(grammar)\n",
    "    \n",
    "    verb_list = []\n",
    "    for i in sentences:\n",
    "        terms = get_terms(cp.parse(i))\n",
    "        features = []\n",
    "        for term in terms:\n",
    "            _term = ''\n",
    "            for word in term:\n",
    "                _term += ' ' + word\n",
    "            features.append(_term.strip())\n",
    "        verb_list.append(features)\n",
    "    return verb_list\n"
   ]
  },
  {
   "cell_type": "code",
   "execution_count": 4,
   "metadata": {},
   "outputs": [
    {
     "data": {
      "text/plain": [
       "[['be a nice day'], ['go to the park'], ['rode a bike']]"
      ]
     },
     "execution_count": 4,
     "metadata": {},
     "output_type": "execute_result"
    }
   ],
   "source": [
    "text = \"It was a nice day. Today I went to the park and played. I rode a bike.\"\n",
    "ie_extract(text)"
   ]
  },
  {
   "cell_type": "code",
   "execution_count": null,
   "metadata": {},
   "outputs": [],
   "source": []
  },
  {
   "cell_type": "code",
   "execution_count": null,
   "metadata": {},
   "outputs": [],
   "source": []
  }
 ],
 "metadata": {
  "kernelspec": {
   "display_name": "Python 3",
   "language": "python",
   "name": "python3"
  },
  "language_info": {
   "codemirror_mode": {
    "name": "ipython",
    "version": 3
   },
   "file_extension": ".py",
   "mimetype": "text/x-python",
   "name": "python",
   "nbconvert_exporter": "python",
   "pygments_lexer": "ipython3",
   "version": "3.7.6"
  }
 },
 "nbformat": 4,
 "nbformat_minor": 4
}
